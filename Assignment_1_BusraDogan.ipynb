{
 "cells": [
  {
   "cell_type": "markdown",
   "metadata": {},
   "source": [
    "# Assigment 1-BusraDogan"
   ]
  },
  {
   "cell_type": "markdown",
   "metadata": {},
   "source": [
    "## Importing Libraries"
   ]
  },
  {
   "cell_type": "code",
   "execution_count": 1,
   "metadata": {},
   "outputs": [],
   "source": [
    "# LIBRARIES                         \n",
    "import pandas as pd\n",
    "import numpy as np\n",
    "import matplotlib.pyplot as plt\n",
    "import seaborn as sns\n",
    "import collections\n",
    "import math\n",
    "\n",
    "# from sklearn.datasets.samples_generator import make_blobs\n",
    "from sklearn.datasets import make_blobs\n",
    "from sklearn.model_selection import train_test_split\n",
    "from sklearn import metrics\n",
    "from sklearn.preprocessing import MinMaxScaler\n",
    "\n",
    "from sklearn.preprocessing import LabelEncoder\n",
    "from sklearn.preprocessing import OneHotEncoder\n",
    "# from imblearn.over_sampling import SMOTE\n",
    "from sklearn.discriminant_analysis import LinearDiscriminantAnalysis \n",
    "\n",
    "from sklearn.metrics import roc_curve,roc_auc_score, auc\n",
    "from sklearn.metrics import confusion_matrix\n",
    "from sklearn.metrics import recall_score\n",
    "from sklearn.metrics import precision_score,f1_score\n",
    "\n",
    "#Machine learning algorithms libraries\n",
    "from sklearn.linear_model import LogisticRegression\n",
    "from sklearn.naive_bayes import BernoulliNB\n",
    "from sklearn.neighbors import KNeighborsClassifier\n",
    "from sklearn.tree import DecisionTreeClassifier\n",
    "from sklearn.ensemble import RandomForestClassifier\n",
    "from sklearn.ensemble import GradientBoostingClassifier\n",
    "from sklearn.svm import SVC\n",
    "from sklearn.neural_network import MLPClassifier\n",
    "import warnings\n",
    "warnings.filterwarnings(\"ignore\")"
   ]
  },
  {
   "cell_type": "code",
   "execution_count": 2,
   "metadata": {},
   "outputs": [
    {
     "name": "stdout",
     "output_type": "stream",
     "text": [
      "The scikit-learn version is 0.23.1.\n"
     ]
    }
   ],
   "source": [
    "import sklearn\n",
    "print('The scikit-learn version is {}.'.format(sklearn.__version__))"
   ]
  },
  {
   "cell_type": "markdown",
   "metadata": {},
   "source": [
    "## One Hot Encoder Function For Encoding Categorial Values"
   ]
  },
  {
   "cell_type": "code",
   "execution_count": 2,
   "metadata": {},
   "outputs": [],
   "source": [
    "def oneHotEncoder(feature_index, label, data):\n",
    "    feature = data.iloc[:,feature_index:feature_index+1].values\n",
    "    name=(np.unique(data.iloc[:,feature_index]))\n",
    "\n",
    "    from sklearn.preprocessing import OneHotEncoder\n",
    "    ohe = OneHotEncoder()\n",
    "    feature=ohe.fit_transform(feature).toarray()\n",
    "\n",
    "    #creating a dataframe for all encoded employed\n",
    "    all_feature_values=pd.DataFrame(feature, index=range(len(feature)), columns=label+\"_\"+name)\n",
    "\n",
    "    #adding features to dataset\n",
    "    data = pd.concat([data, all_feature_values], axis=1)\n",
    "\n",
    "    return data"
   ]
  },
  {
   "cell_type": "markdown",
   "metadata": {},
   "source": [
    "## Label Encoder Function For Encoding Categorial Values"
   ]
  },
  {
   "cell_type": "code",
   "execution_count": 3,
   "metadata": {},
   "outputs": [],
   "source": [
    "from sklearn.preprocessing import LabelEncoder\n",
    "le=LabelEncoder()\n",
    "def labelEncoder(index, data):\n",
    "    data.iloc[:,index]=le.fit_transform(data.iloc[:,index])\n",
    "    return data"
   ]
  },
  {
   "cell_type": "code",
   "execution_count": 137,
   "metadata": {},
   "outputs": [],
   "source": [
    "class datasetAnalysis:\n",
    "        # LIBRARIES                         \n",
    "    import pandas as pd\n",
    "    import numpy as np\n",
    "\n",
    "    import collections\n",
    "    import math\n",
    "\n",
    "    # from sklearn.datasets.samples_generator import make_blobs\n",
    "    from sklearn.datasets import make_blobs\n",
    "    from sklearn.model_selection import train_test_split\n",
    "    from sklearn import metrics\n",
    "    from sklearn.preprocessing import MinMaxScaler\n",
    "\n",
    "    from sklearn.preprocessing import LabelEncoder\n",
    "    from sklearn.preprocessing import OneHotEncoder\n",
    "    # from imblearn.over_sampling import SMOTE\n",
    "    from sklearn.discriminant_analysis import LinearDiscriminantAnalysis \n",
    "\n",
    "    from sklearn.metrics import roc_curve,roc_auc_score, auc\n",
    "    from sklearn.metrics import confusion_matrix\n",
    "    from sklearn.metrics import recall_score\n",
    "    from sklearn.metrics import precision_score,f1_score\n",
    "\n",
    "    #Machine learning algorithms libraries\n",
    "    from sklearn.linear_model import LogisticRegression\n",
    "    from sklearn.naive_bayes import BernoulliNB\n",
    "    from sklearn.neighbors import KNeighborsClassifier\n",
    "    from sklearn.tree import DecisionTreeClassifier\n",
    "    from sklearn.ensemble import RandomForestClassifier\n",
    "    from sklearn.ensemble import GradientBoostingClassifier\n",
    "    from sklearn.svm import SVC\n",
    "    from sklearn.neural_network import MLPClassifier\n",
    "    import warnings\n",
    "    warnings.filterwarnings(\"ignore\")\n",
    "    \n",
    "    def __init__(self,data,target):\n",
    "        self.data=data\n",
    "        self.target=target\n",
    "\n",
    "    def datasetInfo1(self):\n",
    "        \n",
    "        print(self.data.info())\n",
    "        print(self.data.describe())\n",
    "        print( '\\033[1m'+ \"\\n General Information of Dataset\\n\" + '\\033[0m',self.data.head())\n",
    "        print('\\033[1m'+ \" \\n Showing Missing Values\\n\" + '\\033[0m')\n",
    "        print(self.data.isnull().sum())\n",
    "        \n",
    "        \n",
    "    def datasetInfo2(self):\n",
    "        print(self.data.columns)\n",
    "        print(\"\\n\" , '\\033[1m'+ \"Target Counts\\n\" + '\\033[0m', self.data[target].value_counts(),\"\\n\")\n",
    "        \n",
    "        for i in data.columns:\n",
    "            print(data[i].value_counts().head(),\"\\n\")\n",
    "        \n",
    "        \n",
    "class PreVisulation:\n",
    "    import matplotlib.pyplot as plt\n",
    "    import seaborn as sns\n",
    "    \n",
    "    def __init__(self,feature):\n",
    "#         self.data=data\n",
    "#         self.target=target\n",
    "        self.feature=feature\n",
    "        \n",
    "\n",
    "    def vis1(self):\n",
    "        \n",
    "    #target distribution\n",
    "        treatment_YES =len(data[data[target] == 'Yes'])\n",
    "        treatment_NO = len(data[data[target]== 'No'])\n",
    "\n",
    "        plt.figure(figsize=(8,6))\n",
    "\n",
    "        # Data to plot\n",
    "        labels = 'target_NO','target_YES'\n",
    "        sizes = [treatment_NO,treatment_YES]\n",
    "        colors = ['skyblue', 'yellowgreen']\n",
    "        explode = (0, 0)  # explode 1st slice\n",
    "\n",
    "        # Plot\n",
    "        plt.pie(sizes, explode=explode, labels=labels, colors=colors,\n",
    "        autopct='%1.1f%%', shadow=True, startangle=90)\n",
    "\n",
    "        plt.axis('equal')\n",
    "        plt.show()\n",
    "           \n",
    "    def vis2(self):  \n",
    "        categories = feature\n",
    "\n",
    "        for i, c in enumerate(categories):\n",
    "            v = data[c].unique()\n",
    "\n",
    "            g = data.groupby(by=c)[c].count().sort_values(ascending=False)\n",
    "            r = range(min(len(v), 10))\n",
    "\n",
    "            print( g.head())\n",
    "            plt.figure(figsize=(13,3))\n",
    "            plt.bar(r, g.head(10)) \n",
    "            #plt.xticks(r, v)\n",
    "            plt.xticks(r, g.index)\n",
    "            plt.show()\n",
    "            \n",
    "            \n",
    "        \n",
    "        \n",
    "        "
   ]
  },
  {
   "cell_type": "code",
   "execution_count": 121,
   "metadata": {},
   "outputs": [],
   "source": [
    "class preprocess():\n",
    "    global train\n",
    "    global test\n",
    "    \n",
    "    \n",
    "    def __init__(self):\n",
    "        preprocess.train=pd.DataFrame()\n",
    "        preprocess.test=pd.DataFrame()\n",
    "    \n",
    "    def split(self):\n",
    "        \n",
    "        # train-test spit\n",
    "        preprocess.train, preprocess.test=train_test_split(data, test_size = 0.3, stratify=data[target],random_state = 42) #shuffle=True\n",
    "        preprocess.train.reset_index(drop=True, inplace=True)\n",
    "        preprocess.test.reset_index(drop=True, inplace=True)\n",
    "        \n",
    "        print(\"\\n\", '\\033[1m'+ \" Train Info\" + '\\033[0m')\n",
    "        print(preprocess.train.info())\n",
    "        print(\"\\n\", '\\033[1m'+ \" Test Info\" + '\\033[0m')\n",
    "        print(preprocess.test.info())"
   ]
  },
  {
   "cell_type": "code",
   "execution_count": 91,
   "metadata": {},
   "outputs": [
    {
     "name": "stdout",
     "output_type": "stream",
     "text": [
      "<class 'pandas.core.frame.DataFrame'>\n",
      "RangeIndex: 881 entries, 0 to 880\n",
      "Data columns (total 27 columns):\n",
      "Timestamp                    881 non-null object\n",
      "Age                          881 non-null int64\n",
      "Gender                       881 non-null object\n",
      "Country                      881 non-null object\n",
      "state                        523 non-null object\n",
      "self_employed                868 non-null object\n",
      "family_history               881 non-null object\n",
      "treatment                    881 non-null object\n",
      "work_interfere               699 non-null object\n",
      "no_employees                 881 non-null object\n",
      "remote_work                  881 non-null object\n",
      "tech_company                 881 non-null object\n",
      "benefits                     881 non-null object\n",
      "care_options                 881 non-null object\n",
      "wellness_program             881 non-null object\n",
      "seek_help                    881 non-null object\n",
      "anonymity                    881 non-null object\n",
      "leave                        881 non-null object\n",
      "mental_health_consequence    881 non-null object\n",
      "phys_health_consequence      881 non-null object\n",
      "coworkers                    881 non-null object\n",
      "supervisor                   881 non-null object\n",
      "mental_health_interview      881 non-null object\n",
      "phys_health_interview        881 non-null object\n",
      "mental_vs_physical           881 non-null object\n",
      "obs_consequence              881 non-null object\n",
      "comments                     115 non-null object\n",
      "dtypes: int64(1), object(26)\n",
      "memory usage: 185.9+ KB\n"
     ]
    }
   ],
   "source": [
    "train.info()"
   ]
  },
  {
   "cell_type": "markdown",
   "metadata": {},
   "source": [
    "## Reading The Dataset"
   ]
  },
  {
   "cell_type": "code",
   "execution_count": 4,
   "metadata": {},
   "outputs": [],
   "source": [
    "#read data \n",
    "data=pd.read_csv(\"survey.csv\")"
   ]
  },
  {
   "cell_type": "code",
   "execution_count": 138,
   "metadata": {},
   "outputs": [],
   "source": [
    "target='treatment'\n",
    "df=datasetAnalysis(data,target)\n"
   ]
  },
  {
   "cell_type": "code",
   "execution_count": 139,
   "metadata": {
    "scrolled": false
   },
   "outputs": [
    {
     "name": "stdout",
     "output_type": "stream",
     "text": [
      "<class 'pandas.core.frame.DataFrame'>\n",
      "RangeIndex: 1259 entries, 0 to 1258\n",
      "Data columns (total 27 columns):\n",
      "Timestamp                    1259 non-null object\n",
      "Age                          1259 non-null int64\n",
      "Gender                       1259 non-null object\n",
      "Country                      1259 non-null object\n",
      "state                        744 non-null object\n",
      "self_employed                1241 non-null object\n",
      "family_history               1259 non-null object\n",
      "treatment                    1259 non-null object\n",
      "work_interfere               995 non-null object\n",
      "no_employees                 1259 non-null object\n",
      "remote_work                  1259 non-null object\n",
      "tech_company                 1259 non-null object\n",
      "benefits                     1259 non-null object\n",
      "care_options                 1259 non-null object\n",
      "wellness_program             1259 non-null object\n",
      "seek_help                    1259 non-null object\n",
      "anonymity                    1259 non-null object\n",
      "leave                        1259 non-null object\n",
      "mental_health_consequence    1259 non-null object\n",
      "phys_health_consequence      1259 non-null object\n",
      "coworkers                    1259 non-null object\n",
      "supervisor                   1259 non-null object\n",
      "mental_health_interview      1259 non-null object\n",
      "phys_health_interview        1259 non-null object\n",
      "mental_vs_physical           1259 non-null object\n",
      "obs_consequence              1259 non-null object\n",
      "comments                     164 non-null object\n",
      "dtypes: int64(1), object(26)\n",
      "memory usage: 265.6+ KB\n",
      "None\n",
      "                Age\n",
      "count  1.259000e+03\n",
      "mean   7.942815e+07\n",
      "std    2.818299e+09\n",
      "min   -1.726000e+03\n",
      "25%    2.700000e+01\n",
      "50%    3.100000e+01\n",
      "75%    3.600000e+01\n",
      "max    1.000000e+11\n",
      "\u001b[1m\n",
      " General Information of Dataset\n",
      "\u001b[0m              Timestamp  Age  Gender         Country state self_employed  \\\n",
      "0  2014-08-27 11:29:31   37  Female   United States    IL           NaN   \n",
      "1  2014-08-27 11:29:37   44       M   United States    IN           NaN   \n",
      "2  2014-08-27 11:29:44   32    Male          Canada   NaN           NaN   \n",
      "3  2014-08-27 11:29:46   31    Male  United Kingdom   NaN           NaN   \n",
      "4  2014-08-27 11:30:22   31    Male   United States    TX           NaN   \n",
      "\n",
      "  family_history treatment work_interfere    no_employees   ...     \\\n",
      "0             No       Yes          Often            6-25   ...      \n",
      "1             No        No         Rarely  More than 1000   ...      \n",
      "2             No        No         Rarely            6-25   ...      \n",
      "3            Yes       Yes          Often          26-100   ...      \n",
      "4             No        No          Never         100-500   ...      \n",
      "\n",
      "                leave mental_health_consequence phys_health_consequence  \\\n",
      "0       Somewhat easy                        No                      No   \n",
      "1          Don't know                     Maybe                      No   \n",
      "2  Somewhat difficult                        No                      No   \n",
      "3  Somewhat difficult                       Yes                     Yes   \n",
      "4          Don't know                        No                      No   \n",
      "\n",
      "      coworkers supervisor mental_health_interview phys_health_interview  \\\n",
      "0  Some of them        Yes                      No                 Maybe   \n",
      "1            No         No                      No                    No   \n",
      "2           Yes        Yes                     Yes                   Yes   \n",
      "3  Some of them         No                   Maybe                 Maybe   \n",
      "4  Some of them        Yes                     Yes                   Yes   \n",
      "\n",
      "  mental_vs_physical obs_consequence comments  \n",
      "0                Yes              No      NaN  \n",
      "1         Don't know              No      NaN  \n",
      "2                 No              No      NaN  \n",
      "3                 No             Yes      NaN  \n",
      "4         Don't know              No      NaN  \n",
      "\n",
      "[5 rows x 27 columns]\n",
      "\u001b[1m \n",
      " Showing Missing Values\n",
      "\u001b[0m\n",
      "Timestamp                       0\n",
      "Age                             0\n",
      "Gender                          0\n",
      "Country                         0\n",
      "state                         515\n",
      "self_employed                  18\n",
      "family_history                  0\n",
      "treatment                       0\n",
      "work_interfere                264\n",
      "no_employees                    0\n",
      "remote_work                     0\n",
      "tech_company                    0\n",
      "benefits                        0\n",
      "care_options                    0\n",
      "wellness_program                0\n",
      "seek_help                       0\n",
      "anonymity                       0\n",
      "leave                           0\n",
      "mental_health_consequence       0\n",
      "phys_health_consequence         0\n",
      "coworkers                       0\n",
      "supervisor                      0\n",
      "mental_health_interview         0\n",
      "phys_health_interview           0\n",
      "mental_vs_physical              0\n",
      "obs_consequence                 0\n",
      "comments                     1095\n",
      "dtype: int64\n"
     ]
    }
   ],
   "source": [
    "df.datasetInfo1()"
   ]
  },
  {
   "cell_type": "markdown",
   "metadata": {},
   "source": [
    "# Showing the top 5 elements of each feature"
   ]
  },
  {
   "cell_type": "code",
   "execution_count": 140,
   "metadata": {},
   "outputs": [
    {
     "name": "stdout",
     "output_type": "stream",
     "text": [
      "Index(['Timestamp', 'Age', 'Gender', 'Country', 'state', 'self_employed',\n",
      "       'family_history', 'treatment', 'work_interfere', 'no_employees',\n",
      "       'remote_work', 'tech_company', 'benefits', 'care_options',\n",
      "       'wellness_program', 'seek_help', 'anonymity', 'leave',\n",
      "       'mental_health_consequence', 'phys_health_consequence', 'coworkers',\n",
      "       'supervisor', 'mental_health_interview', 'phys_health_interview',\n",
      "       'mental_vs_physical', 'obs_consequence', 'comments'],\n",
      "      dtype='object')\n",
      "\n",
      " \u001b[1mTarget Counts\n",
      "\u001b[0m Yes    637\n",
      "No     622\n",
      "Name: treatment, dtype: int64 \n",
      "\n",
      "2014-08-27 12:44:51    2\n",
      "2014-08-28 09:59:39    2\n",
      "2014-08-27 17:33:52    2\n",
      "2014-08-27 12:43:28    2\n",
      "2014-08-27 15:24:47    2\n",
      "Name: Timestamp, dtype: int64 \n",
      "\n",
      "29    85\n",
      "32    82\n",
      "26    75\n",
      "27    71\n",
      "33    70\n",
      "Name: Age, dtype: int64 \n",
      "\n",
      "Male      615\n",
      "male      206\n",
      "Female    121\n",
      "M         116\n",
      "female     62\n",
      "Name: Gender, dtype: int64 \n",
      "\n",
      "United States     751\n",
      "United Kingdom    185\n",
      "Canada             72\n",
      "Germany            45\n",
      "Netherlands        27\n",
      "Name: Country, dtype: int64 \n",
      "\n",
      "CA    138\n",
      "WA     70\n",
      "NY     57\n",
      "TN     45\n",
      "TX     44\n",
      "Name: state, dtype: int64 \n",
      "\n",
      "No     1095\n",
      "Yes     146\n",
      "Name: self_employed, dtype: int64 \n",
      "\n",
      "No     767\n",
      "Yes    492\n",
      "Name: family_history, dtype: int64 \n",
      "\n",
      "Yes    637\n",
      "No     622\n",
      "Name: treatment, dtype: int64 \n",
      "\n",
      "Sometimes    465\n",
      "Never        213\n",
      "Rarely       173\n",
      "Often        144\n",
      "Name: work_interfere, dtype: int64 \n",
      "\n",
      "6-25              290\n",
      "26-100            289\n",
      "More than 1000    282\n",
      "100-500           176\n",
      "1-5               162\n",
      "Name: no_employees, dtype: int64 \n",
      "\n",
      "No     883\n",
      "Yes    376\n",
      "Name: remote_work, dtype: int64 \n",
      "\n",
      "Yes    1031\n",
      "No      228\n",
      "Name: tech_company, dtype: int64 \n",
      "\n",
      "Yes           477\n",
      "Don't know    408\n",
      "No            374\n",
      "Name: benefits, dtype: int64 \n",
      "\n",
      "No          501\n",
      "Yes         444\n",
      "Not sure    314\n",
      "Name: care_options, dtype: int64 \n",
      "\n",
      "No            842\n",
      "Yes           229\n",
      "Don't know    188\n",
      "Name: wellness_program, dtype: int64 \n",
      "\n",
      "No            646\n",
      "Don't know    363\n",
      "Yes           250\n",
      "Name: seek_help, dtype: int64 \n",
      "\n",
      "Don't know    819\n",
      "Yes           375\n",
      "No             65\n",
      "Name: anonymity, dtype: int64 \n",
      "\n",
      "Don't know            563\n",
      "Somewhat easy         266\n",
      "Very easy             206\n",
      "Somewhat difficult    126\n",
      "Very difficult         98\n",
      "Name: leave, dtype: int64 \n",
      "\n",
      "No       490\n",
      "Maybe    477\n",
      "Yes      292\n",
      "Name: mental_health_consequence, dtype: int64 \n",
      "\n",
      "No       925\n",
      "Maybe    273\n",
      "Yes       61\n",
      "Name: phys_health_consequence, dtype: int64 \n",
      "\n",
      "Some of them    774\n",
      "No              260\n",
      "Yes             225\n",
      "Name: coworkers, dtype: int64 \n",
      "\n",
      "Yes             516\n",
      "No              393\n",
      "Some of them    350\n",
      "Name: supervisor, dtype: int64 \n",
      "\n",
      "No       1008\n",
      "Maybe     207\n",
      "Yes        44\n",
      "Name: mental_health_interview, dtype: int64 \n",
      "\n",
      "Maybe    557\n",
      "No       500\n",
      "Yes      202\n",
      "Name: phys_health_interview, dtype: int64 \n",
      "\n",
      "Don't know    576\n",
      "Yes           343\n",
      "No            340\n",
      "Name: mental_vs_physical, dtype: int64 \n",
      "\n",
      "No     1075\n",
      "Yes     184\n",
      "Name: obs_consequence, dtype: int64 \n",
      "\n",
      "* Small family business - YMMV.                                                                                                                                                                                                                                                                                                                                        5\n",
      "Nice job on the text field for gender :-)                                                                                                                                                                                                                                                                                                                              1\n",
      "My current work situation was constructed in part because of my mental health issues. One of the reasons I'm self employed is to give me the most flexibility for coping with my mental health issues.I have been removed from a client project in the past because of a mental health condition. This was while I was an employee for a large consulting company.     1\n",
      "Since being advised by Occupational Health that the tempo and spontenaity of the office environment was likely to have a negative effect on my mental health (I'm schizoaffective) I've been moved to 100% remote (home) working. The company have furnished a home office for me and I am only required to attend the office once a month to keep in touch            1\n",
      "My refer to the mental health issue of depression.  I might answer differently if I was talking about a more serious issue like schizophrenia                                                                                                                                                                                                                          1\n",
      "Name: comments, dtype: int64 \n",
      "\n"
     ]
    }
   ],
   "source": [
    "df.datasetInfo2()"
   ]
  },
  {
   "cell_type": "markdown",
   "metadata": {},
   "source": [
    "# Showing the Distribution of the target variable"
   ]
  },
  {
   "cell_type": "code",
   "execution_count": 38,
   "metadata": {
    "scrolled": true
   },
   "outputs": [
    {
     "name": "stdout",
     "output_type": "stream",
     "text": [
      "Gender\n",
      "Male      615\n",
      "male      206\n",
      "Female    121\n",
      "M         116\n",
      "female     62\n",
      "Name: Gender, dtype: int64\n"
     ]
    },
    {
     "data": {
      "image/png": "[encoded data removed]",
      "text/plain": [
       "<Figure size 936x216 with 1 Axes>"
      ]
     },
     "metadata": {
      "needs_background": "light"
     },
     "output_type": "display_data"
    }
   ],
   "source": [
    "feature=['Gender']\n",
    "vis=PreVisulation(feature)\n",
    "vis.vis2()"
   ]
  },
  {
   "cell_type": "code",
   "execution_count": 39,
   "metadata": {},
   "outputs": [
    {
     "data": {
      "image/png": "[encoded data removed]",
      "text/plain": [
       "<Figure size 576x432 with 1 Axes>"
      ]
     },
     "metadata": {},
     "output_type": "display_data"
    }
   ],
   "source": [
    "vis.vis1()"
   ]
  },
  {
   "cell_type": "markdown",
   "metadata": {},
   "source": [
    "# Splitting the data into train and test "
   ]
  },
  {
   "cell_type": "code",
   "execution_count": 122,
   "metadata": {},
   "outputs": [],
   "source": [
    "split=preprocess()"
   ]
  },
  {
   "cell_type": "code",
   "execution_count": 123,
   "metadata": {},
   "outputs": [
    {
     "name": "stdout",
     "output_type": "stream",
     "text": [
      "\n",
      " \u001b[1m Train Info\u001b[0m\n",
      "<class 'pandas.core.frame.DataFrame'>\n",
      "RangeIndex: 881 entries, 0 to 880\n",
      "Data columns (total 27 columns):\n",
      "Timestamp                    881 non-null object\n",
      "Age                          881 non-null int64\n",
      "Gender                       881 non-null object\n",
      "Country                      881 non-null object\n",
      "state                        523 non-null object\n",
      "self_employed                868 non-null object\n",
      "family_history               881 non-null object\n",
      "treatment                    881 non-null object\n",
      "work_interfere               699 non-null object\n",
      "no_employees                 881 non-null object\n",
      "remote_work                  881 non-null object\n",
      "tech_company                 881 non-null object\n",
      "benefits                     881 non-null object\n",
      "care_options                 881 non-null object\n",
      "wellness_program             881 non-null object\n",
      "seek_help                    881 non-null object\n",
      "anonymity                    881 non-null object\n",
      "leave                        881 non-null object\n",
      "mental_health_consequence    881 non-null object\n",
      "phys_health_consequence      881 non-null object\n",
      "coworkers                    881 non-null object\n",
      "supervisor                   881 non-null object\n",
      "mental_health_interview      881 non-null object\n",
      "phys_health_interview        881 non-null object\n",
      "mental_vs_physical           881 non-null object\n",
      "obs_consequence              881 non-null object\n",
      "comments                     115 non-null object\n",
      "dtypes: int64(1), object(26)\n",
      "memory usage: 185.9+ KB\n",
      "None\n",
      "\n",
      " \u001b[1m Test Info\u001b[0m\n",
      "<class 'pandas.core.frame.DataFrame'>\n",
      "RangeIndex: 378 entries, 0 to 377\n",
      "Data columns (total 27 columns):\n",
      "Timestamp                    378 non-null object\n",
      "Age                          378 non-null int64\n",
      "Gender                       378 non-null object\n",
      "Country                      378 non-null object\n",
      "state                        221 non-null object\n",
      "self_employed                373 non-null object\n",
      "family_history               378 non-null object\n",
      "treatment                    378 non-null object\n",
      "work_interfere               296 non-null object\n",
      "no_employees                 378 non-null object\n",
      "remote_work                  378 non-null object\n",
      "tech_company                 378 non-null object\n",
      "benefits                     378 non-null object\n",
      "care_options                 378 non-null object\n",
      "wellness_program             378 non-null object\n",
      "seek_help                    378 non-null object\n",
      "anonymity                    378 non-null object\n",
      "leave                        378 non-null object\n",
      "mental_health_consequence    378 non-null object\n",
      "phys_health_consequence      378 non-null object\n",
      "coworkers                    378 non-null object\n",
      "supervisor                   378 non-null object\n",
      "mental_health_interview      378 non-null object\n",
      "phys_health_interview        378 non-null object\n",
      "mental_vs_physical           378 non-null object\n",
      "obs_consequence              378 non-null object\n",
      "comments                     49 non-null object\n",
      "dtypes: int64(1), object(26)\n",
      "memory usage: 79.8+ KB\n",
      "None\n"
     ]
    }
   ],
   "source": [
    "split.split()\n"
   ]
  },
  {
   "cell_type": "markdown",
   "metadata": {},
   "source": [
    "### Deleting Outlier age values"
   ]
  },
  {
   "cell_type": "markdown",
   "metadata": {},
   "source": [
    "###  feature before data preprocessing"
   ]
  },
  {
   "cell_type": "markdown",
   "metadata": {},
   "source": [
    "###  feature after data preprocessing"
   ]
  },
  {
   "cell_type": "markdown",
   "metadata": {},
   "source": [
    "# Visualization"
   ]
  },
  {
   "cell_type": "code",
   "execution_count": 225,
   "metadata": {},
   "outputs": [],
   "source": [
    "column=['mental_health_consequence','Age','tech_company','Gender']"
   ]
  },
  {
   "cell_type": "code",
   "execution_count": 226,
   "metadata": {},
   "outputs": [
    {
     "data": {
      "text/plain": [
       "'Age'"
      ]
     },
     "execution_count": 226,
     "metadata": {},
     "output_type": "execute_result"
    }
   ],
   "source": [
    "column[1]"
   ]
  },
  {
   "cell_type": "code",
   "execution_count": 227,
   "metadata": {},
   "outputs": [
    {
     "data": {
      "text/plain": [
       "'treatment'"
      ]
     },
     "execution_count": 227,
     "metadata": {},
     "output_type": "execute_result"
    }
   ],
   "source": [
    "target"
   ]
  },
  {
   "cell_type": "code",
   "execution_count": 238,
   "metadata": {},
   "outputs": [],
   "source": [
    "class afterSpliteVis(preprocess):\n",
    "    \n",
    "    import matplotlib.pyplot as plt\n",
    "    import seaborn as sns\n",
    "    def __init__(self):\n",
    "        train=preprocess.train\n",
    "        train=preprocess.train\n",
    "    \n",
    "    \n",
    "    def vis3(self):\n",
    "        plt.figure(figsize=(15,6))\n",
    "        sns.countplot(x=column[0],data = data, hue = target,palette='GnBu')\n",
    "        plt.show()\n",
    "        \n",
    "    def vis4(self):\n",
    "        import matplotlib.pyplot as plt\n",
    "        x = train[train[target]== 'Yes'][column[0]].value_counts().head(5)\n",
    "        x.plot(kind='bar',figsize=(5, 5))\n",
    "        plt.xlabel(\"column\")\n",
    "        plt.ylabel(\"target\")\n",
    "        plt.show()\n",
    "\n",
    "\n",
    "        # Plotting the KDE Plot \n",
    "        sns.kdeplot(train.loc[(train[target]=='Yes'),  \n",
    "                    column[1]], color='#e74c3c', shade=True, Label='Yes')\n",
    "\n",
    "        sns.kdeplot(train.loc[(train[target]=='No'), \n",
    "                    column[1]], color='#9b59b6', shade=True, Label='No')  \n",
    "\n",
    "        plt.xlabel('Age')\n",
    "    def vis5(self):\n",
    "        import seaborn as sns \n",
    "        \n",
    "        sns.violinplot(x =target, y =column[1], data = train, hue =column[2],color='yellow') \n",
    "        \n",
    "    \n",
    "        "
   ]
  },
  {
   "cell_type": "code",
   "execution_count": 239,
   "metadata": {},
   "outputs": [],
   "source": [
    "afterSpliteVis=afterSpliteVis()"
   ]
  },
  {
   "cell_type": "code",
   "execution_count": 242,
   "metadata": {},
   "outputs": [
    {
     "data": {
      "image/png": "[encoded data removed]",
      "text/plain": [
       "<Figure size 1080x432 with 1 Axes>"
      ]
     },
     "metadata": {
      "needs_background": "light"
     },
     "output_type": "display_data"
    }
   ],
   "source": [
    "afterSpliteVis.vis3()"
   ]
  },
  {
   "cell_type": "code",
   "execution_count": 240,
   "metadata": {},
   "outputs": [
    {
     "data": {
      "image/png": "[encoded data removed]",
      "text/plain": [
       "<Figure size 360x360 with 1 Axes>"
      ]
     },
     "metadata": {
      "needs_background": "light"
     },
     "output_type": "display_data"
    },
    {
     "data": {
      "image/png": "[encoded data removed]",
      "text/plain": [
       "<Figure size 432x288 with 1 Axes>"
      ]
     },
     "metadata": {
      "needs_background": "light"
     },
     "output_type": "display_data"
    }
   ],
   "source": [
    "afterSpliteVis.vis4()"
   ]
  },
  {
   "cell_type": "code",
   "execution_count": 243,
   "metadata": {},
   "outputs": [
    {
     "data": {
      "image/png": "[encoded data removed]",
      "text/plain": [
       "<Figure size 432x288 with 1 Axes>"
      ]
     },
     "metadata": {
      "needs_background": "light"
     },
     "output_type": "display_data"
    }
   ],
   "source": [
    "afterSpliteVis.vis5()"
   ]
  },
  {
   "cell_type": "markdown",
   "metadata": {},
   "source": [
    "# Handling of missing data "
   ]
  },
  {
   "cell_type": "markdown",
   "metadata": {},
   "source": [
    "## Converting categorical features to numerical features"
   ]
  },
  {
   "cell_type": "code",
   "execution_count": null,
   "metadata": {},
   "outputs": [],
   "source": [
    "def oneHotEncoder(feature_index, label, data):\n",
    "    feature = data.iloc[:,feature_index:feature_index+1].values\n",
    "    name=(np.unique(data.iloc[:,feature_index]))\n",
    "\n",
    "    from sklearn.preprocessing import OneHotEncoder\n",
    "    ohe = OneHotEncoder()\n",
    "    feature=ohe.fit_transform(feature).toarray()\n",
    "\n",
    "    #creating a dataframe for all encoded employed\n",
    "    all_feature_values=pd.DataFrame(feature, index=range(len(feature)), columns=label+\"_\"+name)\n",
    "\n",
    "    #adding features to dataset\n",
    "    data = pd.concat([data, all_feature_values], axis=1)\n",
    "\n",
    "    return data"
   ]
  },
  {
   "cell_type": "code",
   "execution_count": 58,
   "metadata": {
    "scrolled": true
   },
   "outputs": [],
   "source": [
    "train=oneHotEncoder(2, \"Gender\", train)\n",
    "\n",
    "test=oneHotEncoder(2, \"Gender\", test)\n"
   ]
  },
  {
   "cell_type": "code",
   "execution_count": null,
   "metadata": {},
   "outputs": [],
   "source": [
    "from sklearn.preprocessing import LabelEncoder\n",
    "le=LabelEncoder()\n",
    "def labelEncoder(index, data):\n",
    "    data.iloc[:,index]=le.fit_transform(data.iloc[:,index])\n",
    "    return data"
   ]
  },
  {
   "cell_type": "code",
   "execution_count": 60,
   "metadata": {},
   "outputs": [],
   "source": [
    "train=labelEncoder(4,train)\n",
    "train=labelEncoder(5,train)\n"
   ]
  },
  {
   "cell_type": "code",
   "execution_count": 61,
   "metadata": {},
   "outputs": [],
   "source": [
    "test=labelEncoder(4,test)\n",
    "test=labelEncoder(5,test)\n"
   ]
  },
  {
   "cell_type": "markdown",
   "metadata": {},
   "source": [
    "# COMING SOON"
   ]
  },
  {
   "cell_type": "markdown",
   "metadata": {},
   "source": [
    "# The End\n"
   ]
  },
  {
   "cell_type": "code",
   "execution_count": null,
   "metadata": {},
   "outputs": [],
   "source": []
  }
 ],
 "metadata": {
  "kernelspec": {
   "display_name": "Python 3",
   "language": "python",
   "name": "python3"
  },
  "language_info": {
   "codemirror_mode": {
    "name": "ipython",
    "version": 3
   },
   "file_extension": ".py",
   "mimetype": "text/x-python",
   "name": "python",
   "nbconvert_exporter": "python",
   "pygments_lexer": "ipython3",
   "version": "3.6.7"
  }
 },
 "nbformat": 4,
 "nbformat_minor": 2
}
